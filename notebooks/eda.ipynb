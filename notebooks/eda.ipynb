{
 "cells": [
  {
   "cell_type": "markdown",
   "id": "fa0f8ba9",
   "metadata": {},
   "source": [
    "### Importing libraries"
   ]
  },
  {
   "cell_type": "code",
   "execution_count": 1,
   "id": "724d7a4d",
   "metadata": {},
   "outputs": [],
   "source": [
    "import seaborn as sns\n",
    "import matplotlib.pyplot as plt"
   ]
  },
  {
   "cell_type": "code",
   "execution_count": 2,
   "id": "46747074",
   "metadata": {},
   "outputs": [],
   "source": [
    "from src.main import train_file, test_file"
   ]
  },
  {
   "cell_type": "markdown",
   "id": "5e5b41ca",
   "metadata": {},
   "source": [
    "### Reading data from csv"
   ]
  },
  {
   "cell_type": "code",
   "execution_count": 5,
   "id": "664b0b4b",
   "metadata": {},
   "outputs": [
    {
     "name": "stdout",
     "output_type": "stream",
     "text": [
      "Stored 'data' (str)\n"
     ]
    }
   ],
   "source": [
    "from src.data_loader import DataLoader\n",
    "\n",
    "data_loader = DataLoader(train_file, test_file)\n",
    "df_train, df_test = data_loader.load_data()\n",
    "\n",
    "data = 'string or data-table to pass'\n",
    "%store data"
   ]
  },
  {
   "cell_type": "code",
   "execution_count": null,
   "id": "871e5863",
   "metadata": {},
   "outputs": [],
   "source": [
    "df_train.info()"
   ]
  },
  {
   "cell_type": "code",
   "execution_count": null,
   "id": "067269a2",
   "metadata": {},
   "outputs": [],
   "source": [
    "df_test.info()"
   ]
  },
  {
   "cell_type": "code",
   "execution_count": null,
   "id": "12bf6505",
   "metadata": {},
   "outputs": [],
   "source": [
    "df_train.head()"
   ]
  },
  {
   "cell_type": "code",
   "execution_count": null,
   "id": "2cbf5ba0",
   "metadata": {},
   "outputs": [],
   "source": [
    "df_train['Species'].value_counts()"
   ]
  },
  {
   "cell_type": "code",
   "execution_count": null,
   "id": "4a27cc45",
   "metadata": {},
   "outputs": [],
   "source": [
    "df_test['Species'].value_counts()"
   ]
  },
  {
   "cell_type": "markdown",
   "id": "9fcfda75",
   "metadata": {},
   "source": [
    "### Visualizing data"
   ]
  },
  {
   "cell_type": "code",
   "execution_count": null,
   "id": "84948bfe",
   "metadata": {},
   "outputs": [],
   "source": [
    "plt.figure()\n",
    "sns.pairplot(df_train, hue='Species')\n",
    "plt.show()"
   ]
  },
  {
   "cell_type": "code",
   "execution_count": null,
   "id": "471ecf56",
   "metadata": {},
   "outputs": [],
   "source": [
    "df_train.boxplot(by=\"Species\", figsize=(12, 6))"
   ]
  },
  {
   "cell_type": "code",
   "execution_count": null,
   "id": "20b8a6f0",
   "metadata": {
    "pycharm": {
     "name": "#%%\n"
    }
   },
   "outputs": [],
   "source": [
    "sns.violinplot(y='Species', x='Sepal.Length', data=df_train, inner='quartile')\n",
    "plt.show()\n",
    "sns.violinplot(y='Species', x='Sepal.Width', data=df_train, inner='quartile')\n",
    "plt.show()\n",
    "sns.violinplot(y='Species', x='Petal.Length', data=df_train, inner='quartile')\n",
    "plt.show()\n",
    "sns.violinplot(y='Species', x='Petal.Width', data=df_train, inner='quartile')\n",
    "plt.show()"
   ]
  }
 ],
 "metadata": {
  "kernelspec": {
   "display_name": "Python 3 (ipykernel)",
   "language": "python",
   "name": "python3"
  },
  "language_info": {
   "codemirror_mode": {
    "name": "ipython",
    "version": 3
   },
   "file_extension": ".py",
   "mimetype": "text/x-python",
   "name": "python",
   "nbconvert_exporter": "python",
   "pygments_lexer": "ipython3",
   "version": "3.9.7"
  }
 },
 "nbformat": 4,
 "nbformat_minor": 5
}